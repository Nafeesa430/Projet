{
 "cells": [
  {
   "cell_type": "code",
   "execution_count": null,
   "metadata": {
    "id": "TFlFnBZ_99er"
   },
   "outputs": [],
   "source": [
    "pip install fastapi nest-asyncio pyngrok uvicorn python-multipart"
   ]
  },
  {
   "cell_type": "code",
   "execution_count": 1,
   "metadata": {
    "colab": {
     "base_uri": "https://localhost:8080/"
    },
    "id": "WA-iHcE7-WPi",
    "outputId": "18dc8c4c-17c6-4004-c35a-39592a4bc6e8"
   },
   "outputs": [],
   "source": [
    "from keras.preprocessing import image\n",
    "import numpy as np\n",
    "import pandas as pd\n",
    "from tensorflow.keras.models import load_model\n",
    "import json\n",
    "from PIL import Image\n",
    "from tqdm import tqdm\n",
    "import io\n",
    "from fastapi import FastAPI, UploadFile, File\n",
    "import nest_asyncio\n",
    "from pyngrok import ngrok\n",
    "import uvicorn\n",
    "from pydantic import BaseModel\n",
    "import io\n",
    "import os\n",
    "\n",
    "# making response body\n",
    "class Prediction(BaseModel):\n",
    "  filename: str\n",
    "  predict_class : int\n",
    "  #test_class : int\n",
    "\n",
    "\n",
    "app = FastAPI()\n",
    "\n",
    "@app.get('/')\n",
    "async def home():\n",
    "  return \"please go to /doc to upload image file\"\n",
    "\n",
    "# path used for predicting after uploading image file\n",
    "@app.post('/predict/', response_model=Prediction)\n",
    "async def predict_out(file: UploadFile = File(...)):\n",
    "  #return {\"filename\": file.filename}\n",
    "  \n",
    "  contents = await file.read()\n",
    "  pil_image = Image.open(io.BytesIO(contents))\n",
    "  \n",
    "  # Load model stored in google drive\n",
    "  os.chdir(\"test_subset0.csv\")\n",
    "  model = load_model(\"my_model\", compile = True)\n",
    "  \n",
    "  # resize image so model can accept\n",
    "  test = pd.read_csv('test_subset1.csv')\n",
    "  images = []\n",
    "  input_shape = model.layers[0].input_shape\n",
    "  pil_image = pil_image.resize((input_shape[1], input_shape[2]))\n",
    "  img = image.img_to_array(pil_image)\n",
    "  img = img/255\n",
    "  images.append(img)\n",
    "  X = np.array(images)\n",
    "  y=test['Label'].values\n",
    "  predictions = model.predict(X)\n",
    "  predicted_class = int(np.argmax(predictions[0]))\n",
    "  #test_class = y[0] \n",
    "  \n",
    "  # return predicted class\n",
    "  return {\n",
    "      'filename': file.filename,\n",
    "      'predict_class': predicted_class,\n",
    "      #'Test_class': test_class\n",
    "  }\n",
    "  "
   ]
  },
  {
   "cell_type": "code",
   "execution_count": 5,
   "metadata": {},
   "outputs": [
    {
     "name": "stderr",
     "output_type": "stream",
     "text": [
      "t=2021-03-15T13:17:47+0500 lvl=warn msg=\"failed to start tunnel\" pg=/api/tunnels id=0ae895493bf5a311 err=\"Your account may not run more than 2 tunnels over a single ngrok client session.\\nThe tunnels already running on this session are:\\n[]\\n\\r\\n\\r\\nERR_NGROK_324\\r\\n\"\n"
     ]
    },
    {
     "ename": "PyngrokNgrokHTTPError",
     "evalue": "ngrok client exception, API returned 502: {\"error_code\":103,\"status_code\":502,\"msg\":\"failed to start tunnel\",\"details\":{\"err\":\"Your account may not run more than 2 tunnels over a single ngrok client session.\\nThe tunnels already running on this session are:\\n[]\\n\\r\\n\\r\\nERR_NGROK_324\\r\\n\"}}\n",
     "output_type": "error",
     "traceback": [
      "\u001b[1;31m---------------------------------------------------------------------------\u001b[0m",
      "\u001b[1;31mHTTPError\u001b[0m                                 Traceback (most recent call last)",
      "\u001b[1;32m~\\anaconda3\\lib\\site-packages\\pyngrok\\ngrok.py\u001b[0m in \u001b[0;36mapi_request\u001b[1;34m(url, method, data, params, timeout)\u001b[0m\n\u001b[0;32m    439\u001b[0m     \u001b[1;32mtry\u001b[0m\u001b[1;33m:\u001b[0m\u001b[1;33m\u001b[0m\u001b[1;33m\u001b[0m\u001b[0m\n\u001b[1;32m--> 440\u001b[1;33m         \u001b[0mresponse\u001b[0m \u001b[1;33m=\u001b[0m \u001b[0murlopen\u001b[0m\u001b[1;33m(\u001b[0m\u001b[0mrequest\u001b[0m\u001b[1;33m,\u001b[0m \u001b[0mdata\u001b[0m\u001b[1;33m,\u001b[0m \u001b[0mtimeout\u001b[0m\u001b[1;33m)\u001b[0m\u001b[1;33m\u001b[0m\u001b[1;33m\u001b[0m\u001b[0m\n\u001b[0m\u001b[0;32m    441\u001b[0m         \u001b[0mresponse_data\u001b[0m \u001b[1;33m=\u001b[0m \u001b[0mresponse\u001b[0m\u001b[1;33m.\u001b[0m\u001b[0mread\u001b[0m\u001b[1;33m(\u001b[0m\u001b[1;33m)\u001b[0m\u001b[1;33m.\u001b[0m\u001b[0mdecode\u001b[0m\u001b[1;33m(\u001b[0m\u001b[1;34m\"utf-8\"\u001b[0m\u001b[1;33m)\u001b[0m\u001b[1;33m\u001b[0m\u001b[1;33m\u001b[0m\u001b[0m\n",
      "\u001b[1;32m~\\anaconda3\\lib\\urllib\\request.py\u001b[0m in \u001b[0;36murlopen\u001b[1;34m(url, data, timeout, cafile, capath, cadefault, context)\u001b[0m\n\u001b[0;32m    221\u001b[0m         \u001b[0mopener\u001b[0m \u001b[1;33m=\u001b[0m \u001b[0m_opener\u001b[0m\u001b[1;33m\u001b[0m\u001b[1;33m\u001b[0m\u001b[0m\n\u001b[1;32m--> 222\u001b[1;33m     \u001b[1;32mreturn\u001b[0m \u001b[0mopener\u001b[0m\u001b[1;33m.\u001b[0m\u001b[0mopen\u001b[0m\u001b[1;33m(\u001b[0m\u001b[0murl\u001b[0m\u001b[1;33m,\u001b[0m \u001b[0mdata\u001b[0m\u001b[1;33m,\u001b[0m \u001b[0mtimeout\u001b[0m\u001b[1;33m)\u001b[0m\u001b[1;33m\u001b[0m\u001b[1;33m\u001b[0m\u001b[0m\n\u001b[0m\u001b[0;32m    223\u001b[0m \u001b[1;33m\u001b[0m\u001b[0m\n",
      "\u001b[1;32m~\\anaconda3\\lib\\urllib\\request.py\u001b[0m in \u001b[0;36mopen\u001b[1;34m(self, fullurl, data, timeout)\u001b[0m\n\u001b[0;32m    530\u001b[0m             \u001b[0mmeth\u001b[0m \u001b[1;33m=\u001b[0m \u001b[0mgetattr\u001b[0m\u001b[1;33m(\u001b[0m\u001b[0mprocessor\u001b[0m\u001b[1;33m,\u001b[0m \u001b[0mmeth_name\u001b[0m\u001b[1;33m)\u001b[0m\u001b[1;33m\u001b[0m\u001b[1;33m\u001b[0m\u001b[0m\n\u001b[1;32m--> 531\u001b[1;33m             \u001b[0mresponse\u001b[0m \u001b[1;33m=\u001b[0m \u001b[0mmeth\u001b[0m\u001b[1;33m(\u001b[0m\u001b[0mreq\u001b[0m\u001b[1;33m,\u001b[0m \u001b[0mresponse\u001b[0m\u001b[1;33m)\u001b[0m\u001b[1;33m\u001b[0m\u001b[1;33m\u001b[0m\u001b[0m\n\u001b[0m\u001b[0;32m    532\u001b[0m \u001b[1;33m\u001b[0m\u001b[0m\n",
      "\u001b[1;32m~\\anaconda3\\lib\\urllib\\request.py\u001b[0m in \u001b[0;36mhttp_response\u001b[1;34m(self, request, response)\u001b[0m\n\u001b[0;32m    639\u001b[0m         \u001b[1;32mif\u001b[0m \u001b[1;32mnot\u001b[0m \u001b[1;33m(\u001b[0m\u001b[1;36m200\u001b[0m \u001b[1;33m<=\u001b[0m \u001b[0mcode\u001b[0m \u001b[1;33m<\u001b[0m \u001b[1;36m300\u001b[0m\u001b[1;33m)\u001b[0m\u001b[1;33m:\u001b[0m\u001b[1;33m\u001b[0m\u001b[1;33m\u001b[0m\u001b[0m\n\u001b[1;32m--> 640\u001b[1;33m             response = self.parent.error(\n\u001b[0m\u001b[0;32m    641\u001b[0m                 'http', request, response, code, msg, hdrs)\n",
      "\u001b[1;32m~\\anaconda3\\lib\\urllib\\request.py\u001b[0m in \u001b[0;36merror\u001b[1;34m(self, proto, *args)\u001b[0m\n\u001b[0;32m    568\u001b[0m             \u001b[0margs\u001b[0m \u001b[1;33m=\u001b[0m \u001b[1;33m(\u001b[0m\u001b[0mdict\u001b[0m\u001b[1;33m,\u001b[0m \u001b[1;34m'default'\u001b[0m\u001b[1;33m,\u001b[0m \u001b[1;34m'http_error_default'\u001b[0m\u001b[1;33m)\u001b[0m \u001b[1;33m+\u001b[0m \u001b[0morig_args\u001b[0m\u001b[1;33m\u001b[0m\u001b[1;33m\u001b[0m\u001b[0m\n\u001b[1;32m--> 569\u001b[1;33m             \u001b[1;32mreturn\u001b[0m \u001b[0mself\u001b[0m\u001b[1;33m.\u001b[0m\u001b[0m_call_chain\u001b[0m\u001b[1;33m(\u001b[0m\u001b[1;33m*\u001b[0m\u001b[0margs\u001b[0m\u001b[1;33m)\u001b[0m\u001b[1;33m\u001b[0m\u001b[1;33m\u001b[0m\u001b[0m\n\u001b[0m\u001b[0;32m    570\u001b[0m \u001b[1;33m\u001b[0m\u001b[0m\n",
      "\u001b[1;32m~\\anaconda3\\lib\\urllib\\request.py\u001b[0m in \u001b[0;36m_call_chain\u001b[1;34m(self, chain, kind, meth_name, *args)\u001b[0m\n\u001b[0;32m    501\u001b[0m             \u001b[0mfunc\u001b[0m \u001b[1;33m=\u001b[0m \u001b[0mgetattr\u001b[0m\u001b[1;33m(\u001b[0m\u001b[0mhandler\u001b[0m\u001b[1;33m,\u001b[0m \u001b[0mmeth_name\u001b[0m\u001b[1;33m)\u001b[0m\u001b[1;33m\u001b[0m\u001b[1;33m\u001b[0m\u001b[0m\n\u001b[1;32m--> 502\u001b[1;33m             \u001b[0mresult\u001b[0m \u001b[1;33m=\u001b[0m \u001b[0mfunc\u001b[0m\u001b[1;33m(\u001b[0m\u001b[1;33m*\u001b[0m\u001b[0margs\u001b[0m\u001b[1;33m)\u001b[0m\u001b[1;33m\u001b[0m\u001b[1;33m\u001b[0m\u001b[0m\n\u001b[0m\u001b[0;32m    503\u001b[0m             \u001b[1;32mif\u001b[0m \u001b[0mresult\u001b[0m \u001b[1;32mis\u001b[0m \u001b[1;32mnot\u001b[0m \u001b[1;32mNone\u001b[0m\u001b[1;33m:\u001b[0m\u001b[1;33m\u001b[0m\u001b[1;33m\u001b[0m\u001b[0m\n",
      "\u001b[1;32m~\\anaconda3\\lib\\urllib\\request.py\u001b[0m in \u001b[0;36mhttp_error_default\u001b[1;34m(self, req, fp, code, msg, hdrs)\u001b[0m\n\u001b[0;32m    648\u001b[0m     \u001b[1;32mdef\u001b[0m \u001b[0mhttp_error_default\u001b[0m\u001b[1;33m(\u001b[0m\u001b[0mself\u001b[0m\u001b[1;33m,\u001b[0m \u001b[0mreq\u001b[0m\u001b[1;33m,\u001b[0m \u001b[0mfp\u001b[0m\u001b[1;33m,\u001b[0m \u001b[0mcode\u001b[0m\u001b[1;33m,\u001b[0m \u001b[0mmsg\u001b[0m\u001b[1;33m,\u001b[0m \u001b[0mhdrs\u001b[0m\u001b[1;33m)\u001b[0m\u001b[1;33m:\u001b[0m\u001b[1;33m\u001b[0m\u001b[1;33m\u001b[0m\u001b[0m\n\u001b[1;32m--> 649\u001b[1;33m         \u001b[1;32mraise\u001b[0m \u001b[0mHTTPError\u001b[0m\u001b[1;33m(\u001b[0m\u001b[0mreq\u001b[0m\u001b[1;33m.\u001b[0m\u001b[0mfull_url\u001b[0m\u001b[1;33m,\u001b[0m \u001b[0mcode\u001b[0m\u001b[1;33m,\u001b[0m \u001b[0mmsg\u001b[0m\u001b[1;33m,\u001b[0m \u001b[0mhdrs\u001b[0m\u001b[1;33m,\u001b[0m \u001b[0mfp\u001b[0m\u001b[1;33m)\u001b[0m\u001b[1;33m\u001b[0m\u001b[1;33m\u001b[0m\u001b[0m\n\u001b[0m\u001b[0;32m    650\u001b[0m \u001b[1;33m\u001b[0m\u001b[0m\n",
      "\u001b[1;31mHTTPError\u001b[0m: HTTP Error 502: Bad Gateway",
      "\nDuring handling of the above exception, another exception occurred:\n",
      "\u001b[1;31mPyngrokNgrokHTTPError\u001b[0m                     Traceback (most recent call last)",
      "\u001b[1;32m<ipython-input-5-ed8a4f1a3d40>\u001b[0m in \u001b[0;36m<module>\u001b[1;34m\u001b[0m\n\u001b[0;32m      1\u001b[0m \u001b[1;31m# using ngrok on google colab to expose url so it can be accessed from browser on my PC\u001b[0m\u001b[1;33m\u001b[0m\u001b[1;33m\u001b[0m\u001b[1;33m\u001b[0m\u001b[0m\n\u001b[1;32m----> 2\u001b[1;33m \u001b[0mngrok_tunnel\u001b[0m \u001b[1;33m=\u001b[0m \u001b[0mngrok\u001b[0m\u001b[1;33m.\u001b[0m\u001b[0mconnect\u001b[0m\u001b[1;33m(\u001b[0m\u001b[1;36m3000\u001b[0m\u001b[1;33m)\u001b[0m\u001b[1;33m\u001b[0m\u001b[1;33m\u001b[0m\u001b[0m\n\u001b[0m\u001b[0;32m      3\u001b[0m \u001b[0mprint\u001b[0m\u001b[1;33m(\u001b[0m\u001b[1;34m'Public URL:'\u001b[0m\u001b[1;33m,\u001b[0m \u001b[0mngrok_tunnel\u001b[0m\u001b[1;33m.\u001b[0m\u001b[0mpublic_url\u001b[0m\u001b[1;33m)\u001b[0m\u001b[1;33m\u001b[0m\u001b[1;33m\u001b[0m\u001b[0m\n\u001b[0;32m      4\u001b[0m \u001b[0mnest_asyncio\u001b[0m\u001b[1;33m.\u001b[0m\u001b[0mapply\u001b[0m\u001b[1;33m(\u001b[0m\u001b[1;33m)\u001b[0m\u001b[1;33m\u001b[0m\u001b[1;33m\u001b[0m\u001b[0m\n\u001b[0;32m      5\u001b[0m \u001b[1;31m#uvicorn.run(app, port=8000)\u001b[0m\u001b[1;33m\u001b[0m\u001b[1;33m\u001b[0m\u001b[1;33m\u001b[0m\u001b[0m\n",
      "\u001b[1;32m~\\anaconda3\\lib\\site-packages\\pyngrok\\ngrok.py\u001b[0m in \u001b[0;36mconnect\u001b[1;34m(addr, proto, name, pyngrok_config, **options)\u001b[0m\n\u001b[0;32m    253\u001b[0m     \u001b[0mlogger\u001b[0m\u001b[1;33m.\u001b[0m\u001b[0mdebug\u001b[0m\u001b[1;33m(\u001b[0m\u001b[1;34m\"Creating tunnel with options: {}\"\u001b[0m\u001b[1;33m.\u001b[0m\u001b[0mformat\u001b[0m\u001b[1;33m(\u001b[0m\u001b[0moptions\u001b[0m\u001b[1;33m)\u001b[0m\u001b[1;33m)\u001b[0m\u001b[1;33m\u001b[0m\u001b[1;33m\u001b[0m\u001b[0m\n\u001b[0;32m    254\u001b[0m \u001b[1;33m\u001b[0m\u001b[0m\n\u001b[1;32m--> 255\u001b[1;33m     tunnel = NgrokTunnel(api_request(\"{}/api/tunnels\".format(api_url), method=\"POST\", data=options,\n\u001b[0m\u001b[0;32m    256\u001b[0m                                      timeout=pyngrok_config.request_timeout),\n\u001b[0;32m    257\u001b[0m                          pyngrok_config, api_url)\n",
      "\u001b[1;32m~\\anaconda3\\lib\\site-packages\\pyngrok\\ngrok.py\u001b[0m in \u001b[0;36mapi_request\u001b[1;34m(url, method, data, params, timeout)\u001b[0m\n\u001b[0;32m    459\u001b[0m         \u001b[0mlogger\u001b[0m\u001b[1;33m.\u001b[0m\u001b[0mdebug\u001b[0m\u001b[1;33m(\u001b[0m\u001b[1;34m\"Response {}: {}\"\u001b[0m\u001b[1;33m.\u001b[0m\u001b[0mformat\u001b[0m\u001b[1;33m(\u001b[0m\u001b[0mstatus_code\u001b[0m\u001b[1;33m,\u001b[0m \u001b[0mresponse_data\u001b[0m\u001b[1;33m.\u001b[0m\u001b[0mstrip\u001b[0m\u001b[1;33m(\u001b[0m\u001b[1;33m)\u001b[0m\u001b[1;33m)\u001b[0m\u001b[1;33m)\u001b[0m\u001b[1;33m\u001b[0m\u001b[1;33m\u001b[0m\u001b[0m\n\u001b[0;32m    460\u001b[0m \u001b[1;33m\u001b[0m\u001b[0m\n\u001b[1;32m--> 461\u001b[1;33m         raise PyngrokNgrokHTTPError(\"ngrok client exception, API returned {}: {}\".format(status_code, response_data),\n\u001b[0m\u001b[0;32m    462\u001b[0m                                     \u001b[0me\u001b[0m\u001b[1;33m.\u001b[0m\u001b[0murl\u001b[0m\u001b[1;33m,\u001b[0m\u001b[1;33m\u001b[0m\u001b[1;33m\u001b[0m\u001b[0m\n\u001b[0;32m    463\u001b[0m                                     status_code, e.msg, e.hdrs, response_data)\n",
      "\u001b[1;31mPyngrokNgrokHTTPError\u001b[0m: ngrok client exception, API returned 502: {\"error_code\":103,\"status_code\":502,\"msg\":\"failed to start tunnel\",\"details\":{\"err\":\"Your account may not run more than 2 tunnels over a single ngrok client session.\\nThe tunnels already running on this session are:\\n[]\\n\\r\\n\\r\\nERR_NGROK_324\\r\\n\"}}\n"
     ]
    },
    {
     "name": "stderr",
     "output_type": "stream",
     "text": [
      "t=2021-03-15T13:20:49+0500 lvl=eror msg=\"heartbeat timeout, terminating session\" obj=csess id=fb52041e3834 clientid=7f9da1912ee946abbbb991e2f44feb80\n",
      "t=2021-03-15T13:20:49+0500 lvl=eror msg=\"session closed, starting reconnect loop\" obj=csess id=bb19b001cf01 err=\"session closed\"\n",
      "t=2021-03-15T13:20:59+0500 lvl=eror msg=\"failed to reconnect session\" obj=csess id=bb19b001cf01 err=\"dial tcp: i/o timeout\"\n",
      "t=2021-03-15T13:20:59+0500 lvl=eror msg=\"failed to reconnect session\" obj=csess id=bb19b001cf01 err=\"dial tcp: lookup tunnel.us.ngrok.com: no such host\"\n",
      "t=2021-03-15T13:21:00+0500 lvl=eror msg=\"failed to reconnect session\" obj=csess id=bb19b001cf01 err=\"Get https://dns.google.com/resolve?cd=true&name=tunnel.us.ngrok.com&type=AAAA: dial tcp: lookup dns.google.com: no such host\"\n",
      "t=2021-03-15T13:21:01+0500 lvl=eror msg=\"failed to reconnect session\" obj=csess id=bb19b001cf01 err=\"Get https://s3.amazonaws.com/dns.ngrok.com/tunnel.json: dial tcp: lookup s3.amazonaws.com: no such host\"\n",
      "t=2021-03-15T13:21:03+0500 lvl=eror msg=\"failed to reconnect session\" obj=csess id=bb19b001cf01 err=\"resolved tunnel.us.ngrok.com has no records\"\n",
      "t=2021-03-15T13:21:06+0500 lvl=eror msg=\"failed to reconnect session\" obj=csess id=bb19b001cf01 err=\"dial tcp: lookup tunnel.us.ngrok.com: no such host\"\n",
      "t=2021-03-15T13:21:10+0500 lvl=eror msg=\"failed to reconnect session\" obj=csess id=bb19b001cf01 err=\"Get https://dns.google.com/resolve?cd=true&name=tunnel.us.ngrok.com&type=A: dial tcp: lookup dns.google.com: no such host\"\n",
      "t=2021-03-15T13:21:26+0500 lvl=eror msg=\"failed to reconnect session\" obj=csess id=bb19b001cf01 err=\"Get https://s3.amazonaws.com/dns.ngrok.com/tunnel.json: context deadline exceeded\"\n",
      "t=2021-03-15T13:21:34+0500 lvl=eror msg=\"failed to reconnect session\" obj=csess id=bb19b001cf01 err=\"resolved tunnel.us.ngrok.com has no records\"\n",
      "t=2021-03-15T13:22:19+0500 lvl=eror msg=\"session closed, starting reconnect loop\" obj=csess id=bb19b001cf01 err=\"read tcp 192.168.0.113:49231->3.20.27.198:443: wsarecv: An established connection was aborted by the software in your host machine.\"\n",
      "t=2021-03-15T13:22:19+0500 lvl=eror msg=\"failed to reconnect session\" obj=csess id=bb19b001cf01 err=\"dial tcp: lookup tunnel.us.ngrok.com: no such host\"\n",
      "t=2021-03-15T13:22:20+0500 lvl=eror msg=\"failed to reconnect session\" obj=csess id=bb19b001cf01 err=\"dial tcp: lookup tunnel.us.ngrok.com: no such host\"\n",
      "t=2021-03-15T13:22:20+0500 lvl=eror msg=\"failed to reconnect session\" obj=csess id=bb19b001cf01 err=\"Get https://dns.google.com/resolve?cd=true&name=tunnel.us.ngrok.com&type=A: dial tcp: lookup dns.google.com: no such host\"\n",
      "t=2021-03-15T13:22:21+0500 lvl=eror msg=\"failed to reconnect session\" obj=csess id=bb19b001cf01 err=\"Get https://s3.amazonaws.com/dns.ngrok.com/tunnel.json: dial tcp: lookup s3.amazonaws.com: no such host\"\n",
      "t=2021-03-15T13:22:23+0500 lvl=eror msg=\"failed to reconnect session\" obj=csess id=bb19b001cf01 err=\"resolved tunnel.us.ngrok.com has no records\"\n",
      "t=2021-03-15T13:22:27+0500 lvl=eror msg=\"failed to reconnect session\" obj=csess id=bb19b001cf01 err=\"x509: certificate is valid for tunnel.us.ngrok.com, not korgn.su.lennut.com\"\n",
      "t=2021-03-15T13:22:33+0500 lvl=eror msg=\"failed to reconnect session\" obj=csess id=bb19b001cf01 err=\"x509: certificate is valid for tunnel.us.ngrok.com, not korgn.su.lennut.com\"\n",
      "t=2021-03-15T13:22:40+0500 lvl=eror msg=\"failed to reconnect session\" obj=csess id=bb19b001cf01 err=\"x509: certificate is valid for tunnel.us.ngrok.com, not korgn.su.lennut.com\"\n",
      "t=2021-03-15T13:22:42+0500 lvl=eror msg=\"heartbeat timeout, terminating session\" obj=csess id=f39c49ba8bee clientid=7f9da1912ee946abbbb991e2f44feb80\n",
      "t=2021-03-15T13:22:49+0500 lvl=eror msg=\"failed to reconnect session\" obj=csess id=bb19b001cf01 err=\"resolved tunnel.us.ngrok.com has no records\"\n",
      "t=2021-03-15T13:24:23+0500 lvl=eror msg=\"session closed, starting reconnect loop\" obj=csess id=bb19b001cf01 err=\"read tcp 192.168.0.113:60128->3.12.62.205:443: wsarecv: An established connection was aborted by the software in your host machine.\"\n",
      "t=2021-03-15T13:24:46+0500 lvl=eror msg=\"heartbeat timeout, terminating session\" obj=csess id=eac3c8f538d4 clientid=7f9da1912ee946abbbb991e2f44feb80\n",
      "t=2021-03-15T14:45:10+0500 lvl=eror msg=\"session closed, starting reconnect loop\" obj=csess id=bb19b001cf01 err=\"read tcp 192.168.42.222:51806->3.20.27.198:443: wsarecv: An established connection was aborted by the software in your host machine.\"\n",
      "t=2021-03-15T14:45:10+0500 lvl=eror msg=\"failed to reconnect session\" obj=csess id=bb19b001cf01 err=\"dial tcp: lookup tunnel.us.ngrok.com: no such host\"\n",
      "t=2021-03-15T14:45:10+0500 lvl=eror msg=\"failed to reconnect session\" obj=csess id=bb19b001cf01 err=\"dial tcp: lookup tunnel.us.ngrok.com: no such host\"\n",
      "t=2021-03-15T14:45:11+0500 lvl=eror msg=\"failed to reconnect session\" obj=csess id=bb19b001cf01 err=\"Get https://dns.google.com/resolve?cd=true&name=tunnel.us.ngrok.com&type=A: dial tcp: lookup dns.google.com: no such host\"\n",
      "t=2021-03-15T14:45:12+0500 lvl=eror msg=\"failed to reconnect session\" obj=csess id=bb19b001cf01 err=\"Get https://s3.amazonaws.com/dns.ngrok.com/tunnel.json: dial tcp: lookup s3.amazonaws.com: no such host\"\n",
      "t=2021-03-15T14:45:14+0500 lvl=eror msg=\"failed to reconnect session\" obj=csess id=bb19b001cf01 err=\"resolved tunnel.us.ngrok.com has no records\"\n",
      "t=2021-03-15T14:45:18+0500 lvl=eror msg=\"failed to reconnect session\" obj=csess id=bb19b001cf01 err=\"x509: certificate is valid for tunnel.us.ngrok.com, not korgn.su.lennut.com\"\n",
      "t=2021-03-15T14:45:22+0500 lvl=eror msg=\"failed to reconnect session\" obj=csess id=bb19b001cf01 err=\"dial tcp [2600:1f16:d83:1201::6e74:1]:443: connectex: A socket operation was attempted to an unreachable network.\"\n",
      "t=2021-03-15T14:45:25+0500 lvl=eror msg=\"heartbeat timeout, terminating session\" obj=csess id=50a08f21c3b6 clientid=7f9da1912ee946abbbb991e2f44feb80\n",
      "t=2021-03-15T14:45:29+0500 lvl=eror msg=\"failed to reconnect session\" obj=csess id=bb19b001cf01 err=\"x509: certificate is valid for tunnel.us.ngrok.com, not korgn.su.lennut.com\"\n",
      "t=2021-03-15T14:45:37+0500 lvl=eror msg=\"failed to reconnect session\" obj=csess id=bb19b001cf01 err=\"resolved tunnel.us.ngrok.com has no records\"\n",
      "t=2021-03-15T14:50:32+0500 lvl=eror msg=\"heartbeat timeout, terminating session\" obj=csess id=77d821bdf7d5 clientid=7f9da1912ee946abbbb991e2f44feb80\n",
      "t=2021-03-15T14:50:32+0500 lvl=eror msg=\"session closed, starting reconnect loop\" obj=csess id=bb19b001cf01 err=\"session closed\"\n",
      "t=2021-03-15T14:51:53+0500 lvl=eror msg=\"heartbeat timeout, terminating session\" obj=csess id=5a26bbe3b02c clientid=7f9da1912ee946abbbb991e2f44feb80\n",
      "t=2021-03-15T14:51:53+0500 lvl=eror msg=\"session closed, starting reconnect loop\" obj=csess id=bb19b001cf01 err=\"session closed\"\n",
      "t=2021-03-15T14:52:29+0500 lvl=eror msg=\"heartbeat timeout, terminating session\" obj=csess id=6c3657e3ea44 clientid=7f9da1912ee946abbbb991e2f44feb80\n",
      "t=2021-03-15T14:52:29+0500 lvl=eror msg=\"session closed, starting reconnect loop\" obj=csess id=bb19b001cf01 err=\"session closed\"\n",
      "t=2021-03-15T14:55:37+0500 lvl=eror msg=\"heartbeat timeout, terminating session\" obj=csess id=175e5c37afeb clientid=7f9da1912ee946abbbb991e2f44feb80\n",
      "t=2021-03-15T14:55:37+0500 lvl=eror msg=\"session closed, starting reconnect loop\" obj=csess id=bb19b001cf01 err=\"session closed\"\n",
      "t=2021-03-15T15:02:10+0500 lvl=eror msg=\"session closed, starting reconnect loop\" obj=csess id=bb19b001cf01 err=\"read tcp 192.168.0.113:60370->3.16.250.205:443: wsarecv: An established connection was aborted by the software in your host machine.\"\n",
      "t=2021-03-15T15:02:29+0500 lvl=eror msg=\"heartbeat timeout, terminating session\" obj=csess id=088b1fe668ad clientid=7f9da1912ee946abbbb991e2f44feb80\n",
      "t=2021-03-15T15:05:10+0500 lvl=eror msg=\"heartbeat timeout, terminating session\" obj=csess id=091fba2214d8 clientid=7f9da1912ee946abbbb991e2f44feb80\n",
      "t=2021-03-15T15:05:10+0500 lvl=eror msg=\"session closed, starting reconnect loop\" obj=csess id=bb19b001cf01 err=\"session closed\"\n",
      "t=2021-03-15T15:05:44+0500 lvl=eror msg=\"session closed, starting reconnect loop\" obj=csess id=bb19b001cf01 err=\"read EOF from remote peer\"\n",
      "t=2021-03-15T15:05:44+0500 lvl=eror msg=\"heartbeat timeout, terminating session\" obj=csess id=cc39e2917475 clientid=7f9da1912ee946abbbb991e2f44feb80\n"
     ]
    },
    {
     "name": "stderr",
     "output_type": "stream",
     "text": [
      "t=2021-03-15T15:05:54+0500 lvl=eror msg=\"failed to reconnect session\" obj=csess id=bb19b001cf01 err=\"dial tcp 3.12.62.205:443: i/o timeout\"\n",
      "t=2021-03-15T15:06:05+0500 lvl=eror msg=\"failed to reconnect session\" obj=csess id=bb19b001cf01 err=\"dial tcp 3.12.62.205:443: i/o timeout\"\n",
      "t=2021-03-15T15:06:16+0500 lvl=eror msg=\"failed to reconnect session\" obj=csess id=bb19b001cf01 err=\"Get https://dns.google.com/resolve?cd=true&name=tunnel.us.ngrok.com&type=AAAA: net/http: request canceled while waiting for connection (Client.Timeout exceeded while awaiting headers)\"\n",
      "t=2021-03-15T15:06:27+0500 lvl=eror msg=\"failed to reconnect session\" obj=csess id=bb19b001cf01 err=\"Get https://s3.amazonaws.com/dns.ngrok.com/tunnel.json: context deadline exceeded (Client.Timeout exceeded while awaiting headers)\"\n",
      "t=2021-03-15T15:06:29+0500 lvl=eror msg=\"failed to reconnect session\" obj=csess id=bb19b001cf01 err=\"resolved tunnel.us.ngrok.com has no records\"\n",
      "t=2021-03-15T15:06:41+0500 lvl=eror msg=\"failed to reconnect session\" obj=csess id=bb19b001cf01 err=\"dial tcp: i/o timeout\"\n",
      "t=2021-03-15T15:06:55+0500 lvl=eror msg=\"failed to reconnect session\" obj=csess id=bb19b001cf01 err=\"Get https://dns.google.com/resolve?cd=true&name=tunnel.us.ngrok.com&type=AAAA: net/http: request canceled while waiting for connection (Client.Timeout exceeded while awaiting headers)\"\n",
      "t=2021-03-15T15:07:07+0500 lvl=eror msg=\"failed to reconnect session\" obj=csess id=bb19b001cf01 err=\"Get https://s3.amazonaws.com/dns.ngrok.com/tunnel.json: dial tcp: lookup s3.amazonaws.com: no such host\"\n",
      "t=2021-03-15T15:07:17+0500 lvl=eror msg=\"failed to reconnect session\" obj=csess id=bb19b001cf01 err=\"resolved tunnel.us.ngrok.com has no records\"\n",
      "t=2021-03-15T15:14:58+0500 lvl=eror msg=\"heartbeat timeout, terminating session\" obj=csess id=d91dbffdf2cd clientid=7f9da1912ee946abbbb991e2f44feb80\n",
      "t=2021-03-15T15:14:58+0500 lvl=eror msg=\"session closed, starting reconnect loop\" obj=csess id=bb19b001cf01 err=\"session closed\"\n",
      "t=2021-03-15T15:15:08+0500 lvl=eror msg=\"failed to reconnect session\" obj=csess id=bb19b001cf01 err=\"dial tcp: i/o timeout\"\n",
      "t=2021-03-15T15:15:10+0500 lvl=eror msg=\"failed to reconnect session\" obj=csess id=bb19b001cf01 err=\"dial tcp: lookup tunnel.us.ngrok.com: no such host\"\n",
      "t=2021-03-15T15:15:20+0500 lvl=eror msg=\"failed to reconnect session\" obj=csess id=bb19b001cf01 err=\"Get https://dns.google.com/resolve?cd=true&name=tunnel.us.ngrok.com&type=A: net/http: request canceled while waiting for connection (Client.Timeout exceeded while awaiting headers)\"\n",
      "t=2021-03-15T15:15:21+0500 lvl=eror msg=\"failed to reconnect session\" obj=csess id=bb19b001cf01 err=\"Get https://s3.amazonaws.com/dns.ngrok.com/tunnel.json: dial tcp: lookup s3.amazonaws.com: no such host\"\n",
      "t=2021-03-15T15:15:23+0500 lvl=eror msg=\"failed to reconnect session\" obj=csess id=bb19b001cf01 err=\"resolved tunnel.us.ngrok.com has no records\"\n",
      "t=2021-03-15T15:15:25+0500 lvl=eror msg=\"failed to reconnect session\" obj=csess id=bb19b001cf01 err=\"dial tcp: lookup tunnel.us.ngrok.com: no such host\"\n",
      "t=2021-03-15T15:15:28+0500 lvl=eror msg=\"failed to reconnect session\" obj=csess id=bb19b001cf01 err=\"Get https://dns.google.com/resolve?cd=true&name=tunnel.us.ngrok.com&type=A: dial tcp: lookup dns.google.com: no such host\"\n",
      "t=2021-03-15T15:15:43+0500 lvl=eror msg=\"failed to reconnect session\" obj=csess id=bb19b001cf01 err=\"Get https://s3.amazonaws.com/dns.ngrok.com/tunnel.json: context deadline exceeded\"\n",
      "t=2021-03-15T15:15:51+0500 lvl=eror msg=\"failed to reconnect session\" obj=csess id=bb19b001cf01 err=\"resolved tunnel.us.ngrok.com has no records\"\n",
      "t=2021-03-15T15:16:02+0500 lvl=eror msg=\"failed to reconnect session\" obj=csess id=bb19b001cf01 err=\"dial tcp: lookup tunnel.us.ngrok.com: no such host\"\n",
      "t=2021-03-15T15:16:30+0500 lvl=eror msg=\"failed to reconnect session\" obj=csess id=bb19b001cf01 err=\"dial tcp: i/o timeout\"\n",
      "t=2021-03-15T15:17:10+0500 lvl=eror msg=\"failed to reconnect session\" obj=csess id=bb19b001cf01 err=\"dial tcp: i/o timeout\"\n",
      "t=2021-03-15T15:17:40+0500 lvl=eror msg=\"failed to reconnect session\" obj=csess id=bb19b001cf01 err=\"Get https://dns.google.com/resolve?cd=true&name=tunnel.us.ngrok.com&type=A: dial tcp: lookup dns.google.com: no such host\"\n",
      "t=2021-03-15T15:18:10+0500 lvl=eror msg=\"failed to reconnect session\" obj=csess id=bb19b001cf01 err=\"Get https://s3.amazonaws.com/dns.ngrok.com/tunnel.json: dial tcp: lookup s3.amazonaws.com: no such host\"\n",
      "t=2021-03-15T15:18:40+0500 lvl=eror msg=\"failed to reconnect session\" obj=csess id=bb19b001cf01 err=\"resolved tunnel.us.ngrok.com has no records\"\n",
      "t=2021-03-15T15:19:10+0500 lvl=eror msg=\"failed to reconnect session\" obj=csess id=bb19b001cf01 err=\"dial tcp: lookup tunnel.us.ngrok.com: no such host\"\n",
      "t=2021-03-15T15:19:50+0500 lvl=eror msg=\"failed to reconnect session\" obj=csess id=bb19b001cf01 err=\"Get https://dns.google.com/resolve?cd=true&name=tunnel.us.ngrok.com&type=A: net/http: request canceled while waiting for connection (Client.Timeout exceeded while awaiting headers)\"\n",
      "t=2021-03-15T15:20:20+0500 lvl=eror msg=\"failed to reconnect session\" obj=csess id=bb19b001cf01 err=\"Get https://s3.amazonaws.com/dns.ngrok.com/tunnel.json: dial tcp: lookup s3.amazonaws.com: no such host\"\n",
      "t=2021-03-15T15:20:50+0500 lvl=eror msg=\"failed to reconnect session\" obj=csess id=bb19b001cf01 err=\"resolved tunnel.us.ngrok.com has no records\"\n",
      "t=2021-03-15T15:21:21+0500 lvl=eror msg=\"failed to reconnect session\" obj=csess id=bb19b001cf01 err=\"dial tcp: lookup tunnel.us.ngrok.com: no such host\"\n",
      "t=2021-03-15T15:22:01+0500 lvl=eror msg=\"failed to reconnect session\" obj=csess id=bb19b001cf01 err=\"dial tcp: i/o timeout\"\n",
      "t=2021-03-15T15:22:41+0500 lvl=eror msg=\"failed to reconnect session\" obj=csess id=bb19b001cf01 err=\"dial tcp: i/o timeout\"\n",
      "t=2021-03-15T15:23:21+0500 lvl=eror msg=\"failed to reconnect session\" obj=csess id=bb19b001cf01 err=\"Get https://dns.google.com/resolve?cd=true&name=tunnel.us.ngrok.com&type=A: net/http: request canceled while waiting for connection (Client.Timeout exceeded while awaiting headers)\"\n",
      "t=2021-03-15T15:24:01+0500 lvl=eror msg=\"failed to reconnect session\" obj=csess id=bb19b001cf01 err=\"Get https://s3.amazonaws.com/dns.ngrok.com/tunnel.json: net/http: request canceled while waiting for connection (Client.Timeout exceeded while awaiting headers)\"\n",
      "t=2021-03-15T15:24:31+0500 lvl=eror msg=\"failed to reconnect session\" obj=csess id=bb19b001cf01 err=\"resolved tunnel.us.ngrok.com has no records\"\n",
      "t=2021-03-15T15:25:11+0500 lvl=eror msg=\"failed to reconnect session\" obj=csess id=bb19b001cf01 err=\"dial tcp: i/o timeout\"\n",
      "t=2021-03-15T15:25:51+0500 lvl=eror msg=\"failed to reconnect session\" obj=csess id=bb19b001cf01 err=\"Get https://dns.google.com/resolve?cd=true&name=tunnel.us.ngrok.com&type=A: net/http: request canceled while waiting for connection (Client.Timeout exceeded while awaiting headers)\"\n",
      "t=2021-03-15T15:26:31+0500 lvl=eror msg=\"failed to reconnect session\" obj=csess id=bb19b001cf01 err=\"Get https://s3.amazonaws.com/dns.ngrok.com/tunnel.json: net/http: request canceled while waiting for connection (Client.Timeout exceeded while awaiting headers)\"\n",
      "t=2021-03-15T15:27:01+0500 lvl=eror msg=\"failed to reconnect session\" obj=csess id=bb19b001cf01 err=\"resolved tunnel.us.ngrok.com has no records\"\n",
      "t=2021-03-15T15:27:31+0500 lvl=eror msg=\"failed to reconnect session\" obj=csess id=bb19b001cf01 err=\"dial tcp: lookup tunnel.us.ngrok.com: no such host\"\n"
     ]
    }
   ],
   "source": [
    "# using ngrok on google colab to expose url so it can be accessed from browser on my PC\n",
    "ngrok_tunnel = ngrok.connect(3000)\n",
    "print('Public URL:', ngrok_tunnel.public_url)\n",
    "nest_asyncio.apply()\n",
    "#uvicorn.run(app, port=8000)"
   ]
  },
  {
   "cell_type": "code",
   "execution_count": 5,
   "metadata": {},
   "outputs": [
    {
     "ename": "AttributeError",
     "evalue": "module 'uvicorn' has no attribute 'stop'",
     "output_type": "error",
     "traceback": [
      "\u001b[1;31m---------------------------------------------------------------------------\u001b[0m",
      "\u001b[1;31mAttributeError\u001b[0m                            Traceback (most recent call last)",
      "\u001b[1;32m<ipython-input-5-5cdcd19ce2ce>\u001b[0m in \u001b[0;36m<module>\u001b[1;34m\u001b[0m\n\u001b[1;32m----> 1\u001b[1;33m \u001b[0muvicorn\u001b[0m\u001b[1;33m.\u001b[0m\u001b[0mstop\u001b[0m\u001b[1;33m(\u001b[0m\u001b[1;33m)\u001b[0m\u001b[1;33m\u001b[0m\u001b[1;33m\u001b[0m\u001b[0m\n\u001b[0m",
      "\u001b[1;31mAttributeError\u001b[0m: module 'uvicorn' has no attribute 'stop'"
     ]
    }
   ],
   "source": [
    "uvicorn.stop()"
   ]
  }
 ],
 "metadata": {
  "colab": {
   "collapsed_sections": [],
   "name": "Fastapi.ipynb",
   "provenance": []
  },
  "kernelspec": {
   "display_name": "Python 3",
   "language": "python",
   "name": "python3"
  },
  "language_info": {
   "codemirror_mode": {
    "name": "ipython",
    "version": 3
   },
   "file_extension": ".py",
   "mimetype": "text/x-python",
   "name": "python",
   "nbconvert_exporter": "python",
   "pygments_lexer": "ipython3",
   "version": "3.8.5"
  }
 },
 "nbformat": 4,
 "nbformat_minor": 1
}
